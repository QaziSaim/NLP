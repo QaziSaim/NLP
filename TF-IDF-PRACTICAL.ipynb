{
 "cells": [
  {
   "cell_type": "code",
   "execution_count": 1,
   "id": "437d9914-b6fb-456e-a1aa-a588087cb026",
   "metadata": {},
   "outputs": [],
   "source": [
    "import nltk"
   ]
  },
  {
   "cell_type": "code",
   "execution_count": 12,
   "id": "0b825874-800b-466c-8ca6-88aa04d881c6",
   "metadata": {},
   "outputs": [],
   "source": [
    "from nltk.stem import PorterStemmer\n",
    "from nltk.stem import WordNetLemmatizer\n",
    "from nltk.corpus import stopwords"
   ]
  },
  {
   "cell_type": "code",
   "execution_count": 14,
   "id": "ec2a4d2a-5e2c-4b36-994f-c65ceb31a6c3",
   "metadata": {},
   "outputs": [],
   "source": [
    "# nltk.download('punkt')\n",
    "# nltk.download('punkt_tab')"
   ]
  },
  {
   "cell_type": "code",
   "execution_count": 5,
   "id": "5c61c698-9849-4b4d-87b6-c26787a44ae3",
   "metadata": {},
   "outputs": [],
   "source": [
    "# CountVectorizer"
   ]
  },
  {
   "cell_type": "code",
   "execution_count": 6,
   "id": "309977cb-4f03-4abc-bdc7-ece82bece1b5",
   "metadata": {},
   "outputs": [],
   "source": [
    "from sklearn.feature_extraction.text import CountVectorizer"
   ]
  },
  {
   "cell_type": "code",
   "execution_count": 7,
   "id": "13fba3f4-c982-45a8-bae7-3ccad68d1446",
   "metadata": {},
   "outputs": [],
   "source": [
    "pgs=\"\"\"\n",
    "Generative artificial intelligence (generative AI, GenAI,[1] or GAI) is artificial intelligence capable of generating text, images, videos, or other data using generative models,[2] often in response to prompts.[3][4] Generative AI models learn the patterns and structure of their input training data and then generate new data that has similar characteristics.[5][6]\n",
    "\n",
    "Improvements in transformer-based deep neural networks, particularly large language models (LLMs), enabled an AI boom of generative AI systems in the early 2020s. These include chatbots such as ChatGPT, Copilot, Gemini and LLaMA, text-to-image artificial intelligence image generation systems such as Stable Diffusion, Midjourney and DALL-E, and text-to-video AI generators such as Sora.[7][8][9][10] Companies such as OpenAI, Anthropic, Microsoft, Google, and Baidu as well as numerous smaller firms have developed generative AI models.[3][11][12]\n",
    "\n",
    "Generative AI has uses across a wide range of industries, including software development, healthcare, finance, entertainment, customer service,[13] sales and marketing,[14] art, writing,[15] fashion,[16] and product design.[17] However, concerns have been raised about the potential misuse of generative AI such as cybercrime, the use of fake news or deepfakes to deceive or manipulate people, and the mass replacement of human jobs.\n",
    "\"\"\""
   ]
  },
  {
   "cell_type": "code",
   "execution_count": 8,
   "id": "a82aac14-248c-4e48-9daa-6abb22b390d6",
   "metadata": {},
   "outputs": [],
   "source": [
    "sent=nltk.sent_tokenize(pgs)"
   ]
  },
  {
   "cell_type": "code",
   "execution_count": 10,
   "id": "ba52f511-1897-4f38-bd63-3125787f5959",
   "metadata": {},
   "outputs": [],
   "source": [
    "stem=PorterStemmer()"
   ]
  },
  {
   "cell_type": "code",
   "execution_count": 15,
   "id": "d38d95d9-775c-4941-b132-b6c537df4759",
   "metadata": {},
   "outputs": [],
   "source": [
    "lema=WordNetLemmatizer()"
   ]
  },
  {
   "cell_type": "code",
   "execution_count": 11,
   "id": "05a9c165-ec53-4b17-b16e-9a393039ad0a",
   "metadata": {},
   "outputs": [],
   "source": [
    "# Applying stop words and lemmatizer"
   ]
  },
  {
   "cell_type": "code",
   "execution_count": 16,
   "id": "be47f93d-2f12-4420-857f-42db5f1625a7",
   "metadata": {},
   "outputs": [],
   "source": [
    "import re\n",
    "corpus = []\n",
    "for i in range(len(sent)):\n",
    "    review=re.sub('[^a-zA-Z]',' ',sent[i])\n",
    "    review=review.lower()\n",
    "    # print(review.lower())\n",
    "    review=review.split()\n",
    "    # print(review.split())\n",
    "    review=[lema.lemmatize(word) for word in review if word not in set(stopwords.words('english'))]\n",
    "    review=' '.join(review)\n",
    "    # print(review)\n",
    "    corpus.append(review)"
   ]
  },
  {
   "cell_type": "code",
   "execution_count": 17,
   "id": "921054c8-360c-4d98-9532-cbabdb23cd6f",
   "metadata": {},
   "outputs": [
    {
     "name": "stdout",
     "output_type": "stream",
     "text": [
      "['generative artificial intelligence generative ai genai gai artificial intelligence capable generating text image video data using generative model often response prompt', 'generative ai model learn pattern structure input training data generate new data similar characteristic', 'improvement transformer based deep neural network particularly large language model llm enabled ai boom generative ai system early', 'include chatbots chatgpt copilot gemini llama text image artificial intelligence image generation system stable diffusion midjourney dall e text video ai generator sora', 'company openai anthropic microsoft google baidu well numerous smaller firm developed generative ai model', 'generative ai us across wide range industry including software development healthcare finance entertainment customer service sale marketing art writing fashion product design', 'however concern raised potential misuse generative ai cybercrime use fake news deepfakes deceive manipulate people mass replacement human job']\n"
     ]
    }
   ],
   "source": [
    "print(corpus)"
   ]
  },
  {
   "cell_type": "code",
   "execution_count": 18,
   "id": "c17b1cfe-170a-4707-a6d6-7c4b42ad6f6f",
   "metadata": {},
   "outputs": [],
   "source": [
    "import re\n",
    "stem_corpus = []\n",
    "for i in range(len(sent)):\n",
    "    review=re.sub('[^a-zA-Z]',' ',sent[i])\n",
    "    review=review.lower()\n",
    "    # print(review.lower())\n",
    "    review=review.split()\n",
    "    # print(review.split())\n",
    "    review=[stem.stem(word) for word in review if word not in set(stopwords.words('english'))]\n",
    "    review=' '.join(review)\n",
    "    # (review)\n",
    "    stem_corpus.append(review)"
   ]
  },
  {
   "cell_type": "code",
   "execution_count": 19,
   "id": "a7fc30c6-1e2b-45af-8519-5e4281dbe478",
   "metadata": {},
   "outputs": [
    {
     "name": "stdout",
     "output_type": "stream",
     "text": [
      "['gener artifici intellig gener ai genai gai artifici intellig capabl gener text imag video data use gener model often respons prompt', 'gener ai model learn pattern structur input train data gener new data similar characterist', 'improv transform base deep neural network particularli larg languag model llm enabl ai boom gener ai system earli', 'includ chatbot chatgpt copilot gemini llama text imag artifici intellig imag gener system stabl diffus midjourney dall e text video ai gener sora', 'compani openai anthrop microsoft googl baidu well numer smaller firm develop gener ai model', 'gener ai use across wide rang industri includ softwar develop healthcar financ entertain custom servic sale market art write fashion product design', 'howev concern rais potenti misus gener ai cybercrim use fake news deepfak deceiv manipul peopl mass replac human job']\n"
     ]
    }
   ],
   "source": [
    "print(stem_corpus)"
   ]
  },
  {
   "cell_type": "code",
   "execution_count": 20,
   "id": "36fe5fcf-c14d-4c77-8782-59cc5bbee506",
   "metadata": {},
   "outputs": [],
   "source": [
    "from sklearn.feature_extraction.text import CountVectorizer\n",
    "cv=CountVectorizer(binary=True,ngram_range=(3,3))"
   ]
  },
  {
   "cell_type": "code",
   "execution_count": 21,
   "id": "34f87f07-f119-4552-b6e1-1672f3471985",
   "metadata": {},
   "outputs": [],
   "source": [
    "X=cv.fit_transform(corpus)"
   ]
  },
  {
   "cell_type": "code",
   "execution_count": 23,
   "id": "4e1b3023-a323-4f7c-9672-9755b43e76cd",
   "metadata": {},
   "outputs": [],
   "source": [
    "# cv.vocabulary_\n",
    "example=\"\"\"\n",
    "{'generative artificial intelligence': 51,\n",
    " 'artificial intelligence generative': 11,\n",
    " 'intelligence generative ai': 65,} \n",
    "\"\"\""
   ]
  },
  {
   "cell_type": "code",
   "execution_count": 24,
   "id": "c3c27423-ecd4-442d-8868-c6d53f3f7726",
   "metadata": {},
   "outputs": [
    {
     "data": {
      "text/plain": [
       "array([[0, 0, 0, 1, 0, 0, 0, 0, 0, 0, 1, 1, 0, 0, 0, 0, 1, 0, 0, 0, 0, 0,\n",
       "        0, 0, 0, 0, 0, 1, 0, 0, 0, 0, 0, 0, 0, 0, 0, 0, 0, 0, 1, 0, 1, 0,\n",
       "        1, 0, 0, 1, 0, 0, 0, 1, 1, 0, 0, 0, 0, 0, 1, 0, 0, 0, 0, 0, 1, 1,\n",
       "        0, 0, 0, 0, 0, 0, 0, 0, 0, 0, 0, 0, 0, 0, 1, 0, 0, 0, 0, 0, 1, 0,\n",
       "        0, 0, 0, 0, 0, 0, 0, 0, 0, 0, 0, 0, 0, 0, 0, 1, 0, 0, 0, 0, 0, 1,\n",
       "        0, 1, 0, 0, 0]], dtype=int64)"
      ]
     },
     "execution_count": 24,
     "metadata": {},
     "output_type": "execute_result"
    }
   ],
   "source": [
    "X[0].toarray()"
   ]
  },
  {
   "cell_type": "code",
   "execution_count": 36,
   "id": "996e3a73-dbb0-488e-b75e-c33f97eb096d",
   "metadata": {},
   "outputs": [],
   "source": [
    "from sklearn.feature_extraction.text import TfidfVectorizer\n",
    "tf=TfidfVectorizer(ngram_range=(1,1),max_features=3)\n",
    "X=tf.fit_transform(corpus)"
   ]
  },
  {
   "cell_type": "code",
   "execution_count": 37,
   "id": "87c7381c-14b4-45ed-a79b-901f310b1292",
   "metadata": {},
   "outputs": [],
   "source": [
    "# tf.vocabulary_\n"
   ]
  },
  {
   "cell_type": "code",
   "execution_count": 38,
   "id": "d94f3951-2654-4725-9afe-a1fbb9b981a1",
   "metadata": {},
   "outputs": [
    {
     "data": {
      "text/plain": [
       "array([[0.26059919, 0.88619209, 0.38308176]])"
      ]
     },
     "execution_count": 38,
     "metadata": {},
     "output_type": "execute_result"
    }
   ],
   "source": [
    "X[0].toarray()"
   ]
  },
  {
   "cell_type": "code",
   "execution_count": 39,
   "id": "7d3892c7-6bba-4c7a-b8d1-ed4f4dbacb68",
   "metadata": {},
   "outputs": [
    {
     "data": {
      "text/plain": [
       "<Compressed Sparse Row sparse matrix of dtype 'float64'\n",
       "\twith 3 stored elements and shape (1, 3)>"
      ]
     },
     "execution_count": 39,
     "metadata": {},
     "output_type": "execute_result"
    }
   ],
   "source": [
    "X[0]"
   ]
  },
  {
   "cell_type": "code",
   "execution_count": null,
   "id": "248cf287-19f3-4ffb-89c3-efd43c1f151a",
   "metadata": {},
   "outputs": [],
   "source": []
  }
 ],
 "metadata": {
  "kernelspec": {
   "display_name": "Python 3 (ipykernel)",
   "language": "python",
   "name": "python3"
  },
  "language_info": {
   "codemirror_mode": {
    "name": "ipython",
    "version": 3
   },
   "file_extension": ".py",
   "mimetype": "text/x-python",
   "name": "python",
   "nbconvert_exporter": "python",
   "pygments_lexer": "ipython3",
   "version": "3.12.0"
  }
 },
 "nbformat": 4,
 "nbformat_minor": 5
}
