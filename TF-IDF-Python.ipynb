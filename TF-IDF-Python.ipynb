{
 "cells": [
  {
   "cell_type": "code",
   "execution_count": 1,
   "id": "f17c2057-292a-411b-a35a-de6099a415f4",
   "metadata": {},
   "outputs": [],
   "source": [
    "import math"
   ]
  },
  {
   "cell_type": "code",
   "execution_count": 2,
   "id": "b04faddc-7537-46c7-ad14-d0be02433063",
   "metadata": {},
   "outputs": [
    {
     "ename": "SyntaxError",
     "evalue": "invalid syntax (819389997.py, line 4)",
     "output_type": "error",
     "traceback": [
      "\u001b[1;36m  Cell \u001b[1;32mIn[2], line 4\u001b[1;36m\u001b[0m\n\u001b[1;33m    return term_count / total_term>0 else 0\u001b[0m\n\u001b[1;37m                                     ^\u001b[0m\n\u001b[1;31mSyntaxError\u001b[0m\u001b[1;31m:\u001b[0m invalid syntax\n"
     ]
    }
   ],
   "source": [
    "def termed_frequency(term,document):\n",
    "    term_count = document.count(term)\n",
    "    total_term = len(document.split())\n",
    "    return term_count / total_term>0 else 0\n",
    "def inverse_document_frequency(term,documents):\n",
    "    num_documents = len(documents)\n",
    "    num_docs_with_term = sum(1 for doc in documents if term in doc.split())\n",
    "\n",
    "    return math.log((num_documents/ (num_docs_with_term + 1)) +1 )\n",
    "\n",
    "def compute_tfidf(term,document,documents):\n",
    "    tf = termed_frequency(term,document)\n",
    "    idf = inverse_document_frequency(term,documents)\n",
    "    return tf * idf\n",
    "documents = [\n",
    "    \"machine learning is amazing\",\n",
    "    \"deep learning is a subset of machine learning\",\n",
    "    \"AI and machine learning are evolving rapidly\"\n",
    "]\n",
    "\n",
    "term = \"learning\"\n",
    "document = documents[0]  # Choosing the first document\n",
    "\n",
    "# Compute TF-IDF for the term in the first document\n",
    "tfidf_value = compute_tfidf(term, document, documents)\n",
    "print(f\"TF-IDF for '{term}' in the first document: {tfidf_value:.4f}\")"
   ]
  },
  {
   "cell_type": "code",
   "execution_count": 3,
   "id": "168027fb-7336-4344-9d60-24d3730dd29f",
   "metadata": {},
   "outputs": [
    {
     "name": "stdout",
     "output_type": "stream",
     "text": [
      "TF-IDF for 'learning' in the first document: 0.1399\n"
     ]
    }
   ],
   "source": [
    "import math\n",
    "\n",
    "# Function to compute Term Frequency (TF)\n",
    "def compute_tf(term, document):\n",
    "    term_count = document.count(term)\n",
    "    total_terms = len(document.split())\n",
    "    return term_count / total_terms if total_terms > 0 else 0\n",
    "\n",
    "# Function to compute Inverse Document Frequency (IDF)\n",
    "def compute_idf(term, documents):\n",
    "    num_documents = len(documents)\n",
    "    num_docs_with_term = sum(1 for doc in documents if term in doc.split())\n",
    "    \n",
    "    return math.log((num_documents / (num_docs_with_term + 1)) + 1)  # Adding 1 to avoid division by zero\n",
    "\n",
    "# Function to compute TF-IDF\n",
    "def compute_tfidf(term, document, documents):\n",
    "    tf = compute_tf(term, document)\n",
    "    idf = compute_idf(term, documents)\n",
    "    return tf * idf\n",
    "\n",
    "# Example usage\n",
    "documents = [\n",
    "    \"machine learning is amazing\",\n",
    "    \"deep learning is a subset of machine learning\",\n",
    "    \"AI and machine learning are evolving rapidly\"\n",
    "]\n",
    "\n",
    "term = \"learning\"\n",
    "document = documents[0]  # Choosing the first document\n",
    "\n",
    "# Compute TF-IDF for the term in the first document\n",
    "tfidf_value = compute_tfidf(term, document, documents)\n",
    "print(f\"TF-IDF for '{term}' in the first document: {tfidf_value:.4f}\")\n"
   ]
  },
  {
   "cell_type": "code",
   "execution_count": null,
   "id": "0e0d8099-8aee-43df-bff4-040701ecfa57",
   "metadata": {},
   "outputs": [],
   "source": []
  }
 ],
 "metadata": {
  "kernelspec": {
   "display_name": "Python 3 (ipykernel)",
   "language": "python",
   "name": "python3"
  },
  "language_info": {
   "codemirror_mode": {
    "name": "ipython",
    "version": 3
   },
   "file_extension": ".py",
   "mimetype": "text/x-python",
   "name": "python",
   "nbconvert_exporter": "python",
   "pygments_lexer": "ipython3",
   "version": "3.12.4"
  }
 },
 "nbformat": 4,
 "nbformat_minor": 5
}
