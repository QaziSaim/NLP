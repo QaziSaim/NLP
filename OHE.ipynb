{
 "cells": [
  {
   "cell_type": "code",
   "execution_count": 29,
   "id": "9ceffb88-724a-416c-8c0f-c2837f4b46fc",
   "metadata": {},
   "outputs": [],
   "source": [
    "D1 = [\"the food is good\"]\n",
    "D2 = [\"the food is bad\"]\n",
    "D3 = [\"pizza is amazing\"]\n",
    "y = [1,0,1]"
   ]
  },
  {
   "cell_type": "code",
   "execution_count": 36,
   "id": "989320d8-246c-4b47-8b99-b215c6ebd244",
   "metadata": {},
   "outputs": [],
   "source": [
    "# d1=[]\n",
    "# s1=\"\"\n",
    "# for i in range(0,len(D1)):\n",
    "#     if \" \" in D1[i]:\n",
    "#         d1.append(D1[i].replace(\" \",\",\"))\n",
    "#         s1 += D1[i].replace(\" \",\",\")\n",
    "    "
   ]
  },
  {
   "cell_type": "code",
   "execution_count": 35,
   "id": "b9cefc1f-131d-483d-9212-b3f8231658c8",
   "metadata": {},
   "outputs": [],
   "source": [
    "# d1 = d1[0].split(\",\")"
   ]
  },
  {
   "cell_type": "code",
   "execution_count": 33,
   "id": "57bff9ab-1cac-4c73-aadd-65b50a8ce08e",
   "metadata": {},
   "outputs": [],
   "source": [
    "# "
   ]
  },
  {
   "cell_type": "code",
   "execution_count": 30,
   "id": "7353bb7d-e57b-4be6-9f4a-0a2865daa2c5",
   "metadata": {},
   "outputs": [],
   "source": [
    "D1 = D1[0].split(\" \")\n",
    "D2 = D2[0].split(\" \")\n",
    "D3 = D3[0].split(\" \")"
   ]
  },
  {
   "cell_type": "code",
   "execution_count": 34,
   "id": "4d9d6b19-8d9d-4c16-9dae-3062b9b90058",
   "metadata": {},
   "outputs": [
    {
     "data": {
      "text/plain": [
       "['the', 'food', 'is', 'good']"
      ]
     },
     "execution_count": 34,
     "metadata": {},
     "output_type": "execute_result"
    }
   ],
   "source": [
    "D1"
   ]
  },
  {
   "cell_type": "code",
   "execution_count": 45,
   "id": "3aab7ef2-6565-4a11-92b7-45e681021949",
   "metadata": {},
   "outputs": [],
   "source": [
    "s = frozenset(D1+D2+D3)\n",
    "l = [x for x in s]"
   ]
  },
  {
   "cell_type": "code",
   "execution_count": 46,
   "id": "9c3b2955-328f-4fef-9ac6-7cfc653da199",
   "metadata": {},
   "outputs": [
    {
     "data": {
      "text/plain": [
       "['the', 'bad', 'pizza', 'food', 'good', 'is', 'amazing']"
      ]
     },
     "execution_count": 46,
     "metadata": {},
     "output_type": "execute_result"
    }
   ],
   "source": [
    "l"
   ]
  },
  {
   "cell_type": "code",
   "execution_count": 56,
   "id": "61d7b0c6-389a-4b0b-b7ee-484b0cfe4a59",
   "metadata": {},
   "outputs": [],
   "source": [
    "D1 = [\"the food is good\"][0].split()\n",
    "D2 = [\"the food is bad\"][0].split()\n",
    "D3 = [\"pizza is amazing\"][0].split()\n",
    "documents = D1 + D2 + D3\n",
    "vocabulary = ['the', 'bad', 'pizza', 'food', 'good', 'is', 'amazing']\n",
    "vocab_size = len(vocabulary)"
   ]
  },
  {
   "cell_type": "code",
   "execution_count": 57,
   "id": "df9fff02-8bbe-4abd-8402-acd9620d30ef",
   "metadata": {},
   "outputs": [],
   "source": [
    "def one_hot_encoding(doc,vocab):\n",
    "    words = doc\n",
    "    return [1 if word in words else 0 for word in vocab]"
   ]
  },
  {
   "cell_type": "code",
   "execution_count": 58,
   "id": "65179827-d524-49b2-a52d-60259d9964c7",
   "metadata": {},
   "outputs": [],
   "source": [
    "one_hot_D1 = one_hot_encoding(D1,vocabulary)"
   ]
  },
  {
   "cell_type": "code",
   "execution_count": 59,
   "id": "58a30519-b54a-4db9-a5cb-4fea44e915b9",
   "metadata": {},
   "outputs": [
    {
     "data": {
      "text/plain": [
       "[1, 0, 0, 1, 1, 1, 0]"
      ]
     },
     "execution_count": 59,
     "metadata": {},
     "output_type": "execute_result"
    }
   ],
   "source": [
    "one_hot_D1"
   ]
  },
  {
   "cell_type": "code",
   "execution_count": 60,
   "id": "bb3fb498-a8ae-4978-8fda-2e471cad5b13",
   "metadata": {},
   "outputs": [
    {
     "name": "stdout",
     "output_type": "stream",
     "text": [
      "Vocabulary: ['the', 'bad', 'pizza', 'food', 'good', 'is', 'amazing']\n",
      "\n",
      "One-Hot Encodings:\n",
      "D1: [1, 0, 0, 1, 1, 1, 0]\n",
      "D2: [1, 1, 0, 1, 0, 1, 0]\n",
      "D3: [0, 0, 1, 0, 0, 1, 1]\n",
      "\n",
      "Final Dimension: (11, 7)\n"
     ]
    }
   ],
   "source": [
    "# Step 4: Encode all documents\n",
    "one_hot_D1 = one_hot_encoding(D1, vocabulary)\n",
    "one_hot_D2 = one_hot_encoding(D2, vocabulary)\n",
    "one_hot_D3 = one_hot_encoding(D3, vocabulary)\n",
    "\n",
    "# Step 5: Print results\n",
    "print(\"Vocabulary:\", vocabulary)\n",
    "print(\"\\nOne-Hot Encodings:\")\n",
    "print(\"D1:\", one_hot_D1)\n",
    "print(\"D2:\", one_hot_D2)\n",
    "print(\"D3:\", one_hot_D3)\n",
    "\n",
    "# Step 6: Show final dimension\n",
    "final_dimension = (len(documents), vocab_size)\n",
    "print(\"\\nFinal Dimension:\", final_dimension)"
   ]
  },
  {
   "cell_type": "code",
   "execution_count": 61,
   "id": "c7de791c-fdf9-418b-b1bb-7c749db73912",
   "metadata": {},
   "outputs": [
    {
     "data": {
      "text/plain": [
       "['the',\n",
       " 'food',\n",
       " 'is',\n",
       " 'good',\n",
       " 'the',\n",
       " 'food',\n",
       " 'is',\n",
       " 'bad',\n",
       " 'pizza',\n",
       " 'is',\n",
       " 'amazing']"
      ]
     },
     "execution_count": 61,
     "metadata": {},
     "output_type": "execute_result"
    }
   ],
   "source": [
    "documents"
   ]
  },
  {
   "cell_type": "code",
   "execution_count": 65,
   "id": "dc7bca7f-b53d-43d7-8535-0b5a223faf80",
   "metadata": {},
   "outputs": [
    {
     "name": "stdout",
     "output_type": "stream",
     "text": [
      "Vocabulary: ['the', 'bad', 'pizza', 'food', 'good', 'is', 'amazing']\n",
      "\n",
      "One-Hot Encodings:\n",
      "the: [1, 0, 0, 0, 0, 0, 0]\n",
      "food: [0, 0, 0, 1, 0, 0, 0]\n",
      "is: [0, 0, 0, 0, 0, 1, 0]\n",
      "good: [0, 0, 0, 0, 1, 0, 0]\n",
      "the: [1, 0, 0, 0, 0, 0, 0]\n",
      "food: [0, 0, 0, 1, 0, 0, 0]\n",
      "is: [0, 0, 0, 0, 0, 1, 0]\n",
      "bad: [0, 1, 0, 0, 0, 0, 0]\n",
      "pizza: [0, 0, 1, 0, 0, 0, 0]\n",
      "is: [0, 0, 0, 0, 0, 1, 0]\n",
      "amazing: [0, 0, 0, 0, 0, 0, 1]\n",
      "\n",
      "Final Dimension: (11, 7)\n"
     ]
    }
   ],
   "source": [
    "# Step 1: Define the documents as lists of words\n",
    "D1 = ['the', 'food', 'is', 'good']\n",
    "D2 = ['the', 'food', 'is', 'bad']\n",
    "D3 = ['pizza', 'is', 'amazing']\n",
    "\n",
    "# Step 2: Combine all words from the documents\n",
    "all_words = D1 + D2 + D3  # Total words = 11\n",
    "\n",
    "# Step 3: Define the fixed vocabulary\n",
    "vocabulary = ['the', 'bad', 'pizza', 'food', 'good', 'is', 'amazing']\n",
    "vocab_size = len(vocabulary)\n",
    "\n",
    "# Step 4: Function to One-Hot Encode Each Word\n",
    "def one_hot_encode_word(word, vocab):\n",
    "    return [1 if word == v else 0 for v in vocab]\n",
    "\n",
    "# Step 5: Encode Each Word as a Row\n",
    "one_hot_vectors = [one_hot_encode_word(word, vocabulary) for word in all_words]\n",
    "\n",
    "# Step 6: Print results\n",
    "print(\"Vocabulary:\", vocabulary)\n",
    "print(\"\\nOne-Hot Encodings:\")\n",
    "for word, vector in zip(all_words, one_hot_vectors):\n",
    "    print(f\"{word}: {vector}\")\n",
    "\n",
    "# Step 7: Show final dimension\n",
    "final_dimension = (len(all_words), vocab_size)\n",
    "print(\"\\nFinal Dimension:\", final_dimension)\n"
   ]
  },
  {
   "cell_type": "code",
   "execution_count": 63,
   "id": "7126011f-02f0-4092-baba-85acbb98bbd8",
   "metadata": {},
   "outputs": [
    {
     "data": {
      "text/plain": [
       "['the', 'food', 'is', 'bad']"
      ]
     },
     "execution_count": 63,
     "metadata": {},
     "output_type": "execute_result"
    }
   ],
   "source": []
  },
  {
   "cell_type": "code",
   "execution_count": 64,
   "id": "ec75d0c3-03d5-417e-999f-700bc742703a",
   "metadata": {},
   "outputs": [
    {
     "data": {
      "text/plain": [
       "['pizza', 'is', 'amazing']"
      ]
     },
     "execution_count": 64,
     "metadata": {},
     "output_type": "execute_result"
    }
   ],
   "source": []
  },
  {
   "cell_type": "code",
   "execution_count": null,
   "id": "7efb95ee-ad2a-4b16-970a-bd8628eb5089",
   "metadata": {},
   "outputs": [],
   "source": []
  }
 ],
 "metadata": {
  "kernelspec": {
   "display_name": "Python 3 (ipykernel)",
   "language": "python",
   "name": "python3"
  },
  "language_info": {
   "codemirror_mode": {
    "name": "ipython",
    "version": 3
   },
   "file_extension": ".py",
   "mimetype": "text/x-python",
   "name": "python",
   "nbconvert_exporter": "python",
   "pygments_lexer": "ipython3",
   "version": "3.12.4"
  }
 },
 "nbformat": 4,
 "nbformat_minor": 5
}
